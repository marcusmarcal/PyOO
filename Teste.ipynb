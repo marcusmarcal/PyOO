{
  "nbformat": 4,
  "nbformat_minor": 0,
  "metadata": {
    "colab": {
      "name": "Teste.ipynb",
      "provenance": [],
      "authorship_tag": "ABX9TyMTVlyyRJOhJNdKb4T/TKxN",
      "include_colab_link": true
    },
    "kernelspec": {
      "name": "python3",
      "display_name": "Python 3"
    }
  },
  "cells": [
    {
      "cell_type": "markdown",
      "metadata": {
        "id": "view-in-github",
        "colab_type": "text"
      },
      "source": [
        "<a href=\"https://colab.research.google.com/github/marcusmarcal/PyOO/blob/master/Teste.ipynb\" target=\"_parent\"><img src=\"https://colab.research.google.com/assets/colab-badge.svg\" alt=\"Open In Colab\"/></a>"
      ]
    },
    {
      "cell_type": "code",
      "metadata": {
        "id": "M1nhC4waGzQU",
        "colab_type": "code",
        "colab": {}
      },
      "source": [
        "class Conta:\n",
        "    def __init__(self, cpf, nome, saldo, limite = 1000.00):\n",
        "        self.__nome = nome\n",
        "        self.__cpf = cpf\n",
        "        self.__saldo = saldo\n",
        "        self.__limite = limite\n",
        "\n",
        "    def extrato(self):\n",
        "        print(\"Nome do Cliente: {}\".format(self.__nome))\n",
        "        print(\"CPF: {}\".format(self.__cpf))\n",
        "        print(\"Saldo: {}\".format(self.__saldo))\n",
        "        print(\"Limite : {}\".format(self.__limite))\n",
        "        print(\"Saldo disponível: {}\".format(self.__saldo + self.__limite))\n",
        "\n",
        "    def depositar(self, valor):\n",
        "        self.__saldo += valor\n",
        "\n",
        "    def sacar(self, valor):\n",
        "        self.__saldo -= valor\n",
        "\n",
        "    def transferir(self, valor, destino):\n",
        "        self.sacar(valor)\n",
        "        destino.depositar(valor)"
      ],
      "execution_count": 1,
      "outputs": []
    },
    {
      "cell_type": "code",
      "metadata": {
        "id": "5F4l2-v5Ht4C",
        "colab_type": "code",
        "colab": {}
      },
      "source": [
        "conta1 = Conta(\"956.605.500-53\",\"Marcus Marçal\", 200)"
      ],
      "execution_count": 2,
      "outputs": []
    },
    {
      "cell_type": "code",
      "metadata": {
        "id": "L8vdBobYHu__",
        "colab_type": "code",
        "colab": {}
      },
      "source": [
        "conta2 = Conta(\"973.952.340.49\",\"Marília Diefenthäler\", 2000)"
      ],
      "execution_count": 3,
      "outputs": []
    },
    {
      "cell_type": "code",
      "metadata": {
        "id": "JzNKjZwmH1qv",
        "colab_type": "code",
        "colab": {
          "base_uri": "https://localhost:8080/",
          "height": 102
        },
        "outputId": "8869b1ab-085a-4832-a527-fdc27dbc5eb2"
      },
      "source": [
        "conta1.extrato()\n"
      ],
      "execution_count": 4,
      "outputs": [
        {
          "output_type": "stream",
          "text": [
            "Nome do Cliente: Marcus Marçal\n",
            "CPF: 956.605.500-53\n",
            "Saldo: 200\n",
            "Limite : 1000.0\n",
            "Saldo disponível: 1200.0\n"
          ],
          "name": "stdout"
        }
      ]
    },
    {
      "cell_type": "code",
      "metadata": {
        "id": "-NNWrq1XYZWO",
        "colab_type": "code",
        "colab": {}
      },
      "source": [
        "conta1.transferir(200,conta2)"
      ],
      "execution_count": 5,
      "outputs": []
    },
    {
      "cell_type": "code",
      "metadata": {
        "id": "Bc8b0IsqYjqP",
        "colab_type": "code",
        "colab": {
          "base_uri": "https://localhost:8080/",
          "height": 204
        },
        "outputId": "a84db5bf-2070-4215-9d1d-0270d510efe5"
      },
      "source": [
        "conta1.extrato()\n",
        "print(\"----\")\n",
        "conta2.extrato()"
      ],
      "execution_count": 7,
      "outputs": [
        {
          "output_type": "stream",
          "text": [
            "Nome do Cliente: Marcus Marçal\n",
            "CPF: 956.605.500-53\n",
            "Saldo: 0\n",
            "Limite : 1000.0\n",
            "Saldo disponível: 1000.0\n",
            "----\n",
            "Nome do Cliente: Marília Diefenthäler\n",
            "CPF: 973.952.340.49\n",
            "Saldo: 2200\n",
            "Limite : 1000.0\n",
            "Saldo disponível: 3200.0\n"
          ],
          "name": "stdout"
        }
      ]
    }
  ]
}